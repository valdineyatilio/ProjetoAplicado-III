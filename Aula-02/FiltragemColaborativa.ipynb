{
 "cells": [
  {
   "cell_type": "markdown",
   "id": "95d5d35f-309b-466b-a667-76ea336f1de8",
   "metadata": {},
   "source": [
    "# Bibliotecas"
   ]
  },
  {
   "cell_type": "code",
   "execution_count": 28,
   "id": "cc332382-1516-4644-92f3-3c115f9937be",
   "metadata": {},
   "outputs": [],
   "source": [
    "import pandas as pd\n",
    "from sklearn.feature_extraction.text import TfidfVectorizer\n",
    "from sklearn.metrics.pairwise import cosine_similarity\n"
   ]
  },
  {
   "cell_type": "markdown",
   "id": "76918ea0-d24a-4d5a-bd53-b514fc6605a0",
   "metadata": {},
   "source": [
    "# Carregar a base de dados do arquivo CSV\n"
   ]
  },
  {
   "cell_type": "code",
   "execution_count": 29,
   "id": "a2bb276a-7ab2-4475-9fad-a7edc05af2c9",
   "metadata": {},
   "outputs": [],
   "source": [
    "url = \"https://github.com/valdineyatilio/ProjetoAplicado-III/raw/refs/heads/main/Aula-02/BaseDeDados-AmazonProductReviews.csv\"\n",
    "dados_Amazon = pd.read_csv(url, encoding='latin1', sep=';')\n",
    "\n"
   ]
  },
  {
   "cell_type": "markdown",
   "id": "1efbf872-8880-4d89-acc1-a169f2d3e75b",
   "metadata": {},
   "source": [
    "# Preencher valores nulos na coluna 'Text' com strings vazias\n"
   ]
  },
  {
   "cell_type": "code",
   "execution_count": 30,
   "id": "6bff90b6-d857-4a57-a8b0-f8ea207420e0",
   "metadata": {},
   "outputs": [],
   "source": [
    "dados_Amazon['Text'] = dados_Amazon['Text'].fillna('')\n"
   ]
  },
  {
   "cell_type": "markdown",
   "id": "6a875561-d1eb-4347-999a-be69c30ffde0",
   "metadata": {},
   "source": [
    "# Aplicar TF-IDF para transformar os textos das avaliações em vetores numéricos\n"
   ]
  },
  {
   "cell_type": "code",
   "execution_count": 31,
   "id": "e410d85f-50ea-4e4a-a3b4-9ba8f741f97d",
   "metadata": {},
   "outputs": [],
   "source": [
    "tfidf = TfidfVectorizer(stop_words='english')\n",
    "matriz_tfidf = tfidf.fit_transform(dados_Amazon['Text'])\n"
   ]
  },
  {
   "cell_type": "markdown",
   "id": "cd167d25-7aa3-4ab0-b768-d00b73bc33fd",
   "metadata": {},
   "source": [
    "# Calcular a similaridade entre os produtos com base nos textos das avaliações\n"
   ]
  },
  {
   "cell_type": "code",
   "execution_count": 32,
   "id": "0fa19b3d-ebe2-40e9-832f-88459872c36f",
   "metadata": {},
   "outputs": [],
   "source": [
    "\n",
    "similaridade = cosine_similarity(matriz_tfidf)\n"
   ]
  },
  {
   "cell_type": "markdown",
   "id": "570e3cf4-3600-4921-bb26-e5d525eaa04e",
   "metadata": {},
   "source": [
    "# Função para recomendar produtos semelhantes a partir do índice de um produto\n"
   ]
  },
  {
   "cell_type": "code",
   "execution_count": 34,
   "id": "7d5abe83-5fde-40b0-b488-e9b3fd125bad",
   "metadata": {},
   "outputs": [],
   "source": [
    "def recomendar_produto(product_index, top_n=5):\n",
    "    similares = list(enumerate(similaridade[product_index]))\n",
    "    similares = sorted(similares, key=lambda x: x[1], reverse=True)\n",
    "\n",
    "    print(f\"Produtos semelhantes ao ID {dados_Amazon.iloc[product_index]['ProductId']}:\\n\")\n",
    "    for i in range(1, top_n + 1):  # Pular o primeiro, que é ele mesmo\n",
    "        produto_id = dados_Amazon.iloc[similares[i][0]]['ProductId']\n",
    "        score = similares[i][1]\n",
    "        print(f\"- Produto ID: {produto_id}, Similaridade: {score:.4f}\")\n",
    "\n"
   ]
  },
  {
   "cell_type": "markdown",
   "id": "815e519a-7a79-4d7d-8c59-f41842e1e239",
   "metadata": {},
   "source": [
    "# Exemplo de recomendação para um produto específico\n"
   ]
  },
  {
   "cell_type": "code",
   "execution_count": 35,
   "id": "da518d87-2d6c-438f-94fa-ccf5258716ee",
   "metadata": {},
   "outputs": [
    {
     "name": "stdout",
     "output_type": "stream",
     "text": [
      "Produtos semelhantes ao ID B0001PB9FE:\n",
      "\n",
      "- Produto ID: B0001PB9FY, Similaridade: 1.0000\n",
      "- Produto ID: B003UDSXU8, Similaridade: 0.3856\n",
      "- Produto ID: B00139TT72, Similaridade: 0.3690\n",
      "- Produto ID: B000EJLWZ4, Similaridade: 0.3496\n",
      "- Produto ID: B001EO5ZFQ, Similaridade: 0.2868\n"
     ]
    }
   ],
   "source": [
    "produto_escolhido = 10  # Índice do produto no dataset\n",
    "recomendar_produto(produto_escolhido)\n"
   ]
  },
  {
   "cell_type": "code",
   "execution_count": null,
   "id": "7f53bab1-ae60-4b67-bab3-19e30c013c85",
   "metadata": {},
   "outputs": [],
   "source": []
  }
 ],
 "metadata": {
  "kernelspec": {
   "display_name": "Python 3 (ipykernel)",
   "language": "python",
   "name": "python3"
  },
  "language_info": {
   "codemirror_mode": {
    "name": "ipython",
    "version": 3
   },
   "file_extension": ".py",
   "mimetype": "text/x-python",
   "name": "python",
   "nbconvert_exporter": "python",
   "pygments_lexer": "ipython3",
   "version": "3.12.7"
  }
 },
 "nbformat": 4,
 "nbformat_minor": 5
}
