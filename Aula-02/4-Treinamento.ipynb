{
 "cells": [
  {
   "cell_type": "markdown",
   "id": "078bd4a0-21aa-4172-9425-65245e23805e",
   "metadata": {},
   "source": [
    "# Importar bibliotecas necessárias\n"
   ]
  },
  {
   "cell_type": "code",
   "execution_count": 1,
   "id": "d0dd5f2b-101f-41a4-bb1d-fbae784b5330",
   "metadata": {},
   "outputs": [],
   "source": [
    "import pandas as pd\n",
    "import numpy as np\n",
    "from sklearn.feature_extraction.text import TfidfVectorizer\n",
    "from sklearn.metrics.pairwise import cosine_similarity\n",
    "from sklearn.model_selection import train_test_split\n"
   ]
  },
  {
   "cell_type": "markdown",
   "id": "53f61624-7714-4611-84d9-3cccd1a040d0",
   "metadata": {},
   "source": [
    "# Carregar a base de dados do arquivo CSV\n"
   ]
  },
  {
   "cell_type": "code",
   "execution_count": 2,
   "id": "5cf27ee5-4a7f-43c1-b2f6-b6f729681b1e",
   "metadata": {},
   "outputs": [],
   "source": [
    "url = \"https://github.com/valdineyatilio/ProjetoAplicado-III/raw/refs/heads/main/Aula-02/BaseDeDados-AmazonProductReviews.csv\"\n",
    "dados_Amazon = pd.read_csv(url, encoding='latin1', sep=';')\n"
   ]
  },
  {
   "cell_type": "markdown",
   "id": "6231be4e-bfd5-49d6-a9bc-ce7e10fe9447",
   "metadata": {},
   "source": [
    "# Preencher valores nulos na coluna 'Text' com strings vazias\n"
   ]
  },
  {
   "cell_type": "code",
   "execution_count": 3,
   "id": "768581d9-3ab2-4977-b698-9355736bcae1",
   "metadata": {},
   "outputs": [],
   "source": [
    "\n",
    "dados_Amazon['Text'] = dados_Amazon['Text'].fillna('')\n"
   ]
  },
  {
   "cell_type": "markdown",
   "id": "e08e30fc-103d-4b52-90f4-7a87b1342eee",
   "metadata": {},
   "source": [
    "# Separar uma amostra para validação do modelo\n"
   ]
  },
  {
   "cell_type": "code",
   "execution_count": 5,
   "id": "41981efa-5158-489d-98ca-700d311aa3dd",
   "metadata": {},
   "outputs": [],
   "source": [
    "dados_treino, dados_teste = train_test_split(dados_Amazon, test_size=0.2, random_state=42)\n"
   ]
  },
  {
   "cell_type": "markdown",
   "id": "e3f00b17-26d5-4a84-ab45-c60cdfa47bcb",
   "metadata": {},
   "source": [
    "# Aplicar TF-IDF para transformar os textos das avaliações em vetores numéricos\n"
   ]
  },
  {
   "cell_type": "code",
   "execution_count": 6,
   "id": "87b2f81a-bee3-4a68-8f5d-28b38a977aa1",
   "metadata": {},
   "outputs": [],
   "source": [
    "tfidf = TfidfVectorizer(stop_words='english', max_df=0.9, min_df=2, ngram_range=(1,2))\n",
    "matriz_tfidf = tfidf.fit_transform(dados_treino['Text'])\n"
   ]
  },
  {
   "cell_type": "markdown",
   "id": "6b1bb325-ff2f-42f0-8ca9-18915e447f28",
   "metadata": {},
   "source": [
    "# Calcular a similaridade entre os produtos\n"
   ]
  },
  {
   "cell_type": "code",
   "execution_count": 7,
   "id": "bbc00971-591d-4e38-92b1-62d16881e08d",
   "metadata": {},
   "outputs": [],
   "source": [
    "similaridade = cosine_similarity(matriz_tfidf)\n"
   ]
  },
  {
   "cell_type": "markdown",
   "id": "51cb672f-061e-4b35-8483-1d19d1fb9339",
   "metadata": {},
   "source": [
    "# Função para recomendar produtos semelhantes a partir do índice de um produto\n"
   ]
  },
  {
   "cell_type": "code",
   "execution_count": 9,
   "id": "4906d2df-8a91-4f12-82c6-d9cbb735ad4a",
   "metadata": {},
   "outputs": [],
   "source": [
    "def recomendar_produto(product_index, top_n=5):\n",
    "    similares = list(enumerate(similaridade[product_index]))\n",
    "    similares = sorted(similares, key=lambda x: x[1], reverse=True)\n",
    "\n",
    "    print(f\"\\nProdutos semelhantes ao ID {dados_treino.iloc[product_index]['ProductId']}:\\n\")\n",
    "    for i in range(1, top_n + 1):  # Pular o primeiro, que é ele mesmo\n",
    "        produto_id = dados_treino.iloc[similares[i][0]]['ProductId']\n",
    "        score = similares[i][1]\n",
    "        print(f\"- Produto ID: {produto_id}, Similaridade: {score:.4f}\")\n",
    "\n"
   ]
  },
  {
   "cell_type": "markdown",
   "id": "d130847e-758f-41ca-ab0f-a20227822306",
   "metadata": {},
   "source": [
    "# Testar o modelo com diferentes produtos da base de teste\n"
   ]
  },
  {
   "cell_type": "code",
   "execution_count": 10,
   "id": "58457081-3b17-4839-a0af-4b360840c82a",
   "metadata": {},
   "outputs": [
    {
     "name": "stdout",
     "output_type": "stream",
     "text": [
      "\n",
      "Validando o modelo com amostras da base de teste:\n",
      "\n",
      "Produtos semelhantes ao ID B005K4Q1VI:\n",
      "\n",
      "- Produto ID: B000ER6YO0, Similaridade: 0.5106\n",
      "- Produto ID: B0089SPDUW, Similaridade: 0.3680\n",
      "- Produto ID: B00263JWM6, Similaridade: 0.3392\n",
      "- Produto ID: B00139TT72, Similaridade: 0.2427\n",
      "- Produto ID: B001QEF4XC, Similaridade: 0.2125\n",
      "\n",
      "Produtos semelhantes ao ID B000G7UDPY:\n",
      "\n",
      "- Produto ID: B000G7UDPY, Similaridade: 0.4220\n",
      "- Produto ID: B000G7UDPY, Similaridade: 0.3405\n",
      "- Produto ID: B002JLT6QC, Similaridade: 0.3357\n",
      "- Produto ID: B000J2DQ46, Similaridade: 0.3147\n",
      "- Produto ID: B000G7UDPY, Similaridade: 0.2881\n",
      "\n",
      "Produtos semelhantes ao ID B001L1KH6Y:\n",
      "\n",
      "- Produto ID: B005HGAVGA, Similaridade: 0.2591\n",
      "- Produto ID: B001E6KBSK, Similaridade: 0.2474\n",
      "- Produto ID: B001L1KH6Y, Similaridade: 0.2472\n",
      "- Produto ID: B001GVISJM, Similaridade: 0.2465\n",
      "- Produto ID: B005HGAVGA, Similaridade: 0.2126\n"
     ]
    }
   ],
   "source": [
    "print(\"\\nValidando o modelo com amostras da base de teste:\")\n",
    "for i in range(3):  # Testando com 3 produtos aleatórios\n",
    "    produto_escolhido = np.random.randint(0, len(dados_treino))\n",
    "    recomendar_produto(produto_escolhido)\n"
   ]
  },
  {
   "cell_type": "code",
   "execution_count": null,
   "id": "6586cb67-9011-4834-bf6e-bf9ba079d132",
   "metadata": {},
   "outputs": [],
   "source": []
  }
 ],
 "metadata": {
  "kernelspec": {
   "display_name": "Python 3 (ipykernel)",
   "language": "python",
   "name": "python3"
  },
  "language_info": {
   "codemirror_mode": {
    "name": "ipython",
    "version": 3
   },
   "file_extension": ".py",
   "mimetype": "text/x-python",
   "name": "python",
   "nbconvert_exporter": "python",
   "pygments_lexer": "ipython3",
   "version": "3.12.7"
  }
 },
 "nbformat": 4,
 "nbformat_minor": 5
}
