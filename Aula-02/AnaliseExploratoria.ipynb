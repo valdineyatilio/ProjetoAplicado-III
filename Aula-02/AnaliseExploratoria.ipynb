{
 "cells": [
  {
   "cell_type": "markdown",
   "id": "46bce1a3-5c62-4c08-ad0c-eb477aa033c1",
   "metadata": {},
   "source": [
    "# Bibliotecas python"
   ]
  },
  {
   "cell_type": "code",
   "execution_count": 3,
   "id": "455444fc-94be-43bd-9460-9685bae7455f",
   "metadata": {},
   "outputs": [],
   "source": [
    "import pandas as pd\n",
    "import matplotlib.pyplot as plt\n",
    "import seaborn as sns\n",
    "import numpy as np\n",
    "from scipy import stats"
   ]
  },
  {
   "cell_type": "markdown",
   "id": "89d03de0-3bd3-497f-b74b-bb79d9fcc8c1",
   "metadata": {},
   "source": [
    "# Carregar a base de dados do arquivo CSV"
   ]
  },
  {
   "cell_type": "code",
   "execution_count": 4,
   "id": "268b5b35-19a4-4a46-ba08-7a1c70a475b2",
   "metadata": {},
   "outputs": [],
   "source": [
    "url = \"https://github.com/valdineyatilio/ProjetoAplicado-III/raw/refs/heads/main/Aula-02/BaseDeDados-AmazonProductReviews.csv\""
   ]
  },
  {
   "cell_type": "code",
   "execution_count": 5,
   "id": "4a75228e-66c3-4ecc-bfa4-013dd6fd817d",
   "metadata": {},
   "outputs": [],
   "source": [
    "dados_Amazon = pd.read_csv(url, encoding='latin1')"
   ]
  },
  {
   "cell_type": "markdown",
   "id": "b11a0363-bb6e-4cc1-85cc-af93e8d8b23f",
   "metadata": {},
   "source": [
    "# Vizualição das primeiras linhas do data frame"
   ]
  },
  {
   "cell_type": "code",
   "execution_count": 6,
   "id": "0a715231-cc3a-49e3-b205-7a1a65b97e3d",
   "metadata": {},
   "outputs": [
    {
     "name": "stdout",
     "output_type": "stream",
     "text": [
      "  Id;ProductId;UserId;ProfileName;HelpfulnessNumerator;HelpfulnessDenominator;Score;Time;Summary;Text\n",
      "0  1;B001E4KFG0;A3SGXH7AUHU8GW;Delmartian;1;1;5;1...                                                 \n",
      "1  2;B00813GRG4;A1D87F6ZCVE5NK;Dll Pa;0;0;1;13469...                                                 \n",
      "2  3;B000LQOCH0;ABXLMWJIXXAIN;Natalia Corres Nata...                                                 \n",
      "3  4;B000UA0QIQ;A395BORC6FGVXV;Karl;3;3;2;1307923...                                                 \n",
      "4  5;B006K2ZZ7K;A1UQRSCLF8GW1T;Michael D. Bigham ...                                                 \n"
     ]
    }
   ],
   "source": [
    "print(dados_Amazon.head())"
   ]
  },
  {
   "cell_type": "markdown",
   "id": "61c2b0df-1dc0-4a82-a0e6-183013a587b9",
   "metadata": {},
   "source": [
    "# Verificar os nomes das colunas"
   ]
  },
  {
   "cell_type": "code",
   "execution_count": 7,
   "id": "307159c7-27d3-44ff-8462-c529ce618b10",
   "metadata": {},
   "outputs": [
    {
     "name": "stdout",
     "output_type": "stream",
     "text": [
      "Index(['Id;ProductId;UserId;ProfileName;HelpfulnessNumerator;HelpfulnessDenominator;Score;Time;Summary;Text'], dtype='object')\n"
     ]
    }
   ],
   "source": [
    "print(dados_Amazon.columns)"
   ]
  },
  {
   "cell_type": "markdown",
   "id": "96c0ee36-decd-478b-9dea-6b841e3a0207",
   "metadata": {},
   "source": [
    "# Verificação de Tipos de Dados"
   ]
  },
  {
   "cell_type": "code",
   "execution_count": 8,
   "id": "ba80889a-663f-4f4c-8bbe-8edb08f1d1d3",
   "metadata": {},
   "outputs": [],
   "source": [
    "for coluna in dados_Amazon.columns:\n",
    "    if dados_Amazon[coluna].dtype == 'object':\n",
    "        dados_Amazon[coluna] = dados_Amazon[coluna].astype('category')\n",
    "    elif dados_Amazon[coluna].dtype in ['int64', 'float64']:\n",
    "        dados_Amazon[coluna] = dados_Amazon[coluna].astype(float)"
   ]
  },
  {
   "cell_type": "markdown",
   "id": "70892f30-414f-4e92-a4d1-ce2ee92fc6d7",
   "metadata": {},
   "source": [
    "# Verificação gerais sobre o dataset"
   ]
  },
  {
   "cell_type": "code",
   "execution_count": 9,
   "id": "59dea137-2f8b-422f-89d9-baa4e1969270",
   "metadata": {},
   "outputs": [
    {
     "name": "stdout",
     "output_type": "stream",
     "text": [
      "<class 'pandas.core.frame.DataFrame'>\n",
      "RangeIndex: 5253 entries, 0 to 5252\n",
      "Data columns (total 1 columns):\n",
      " #   Column                                                                                               Non-Null Count  Dtype   \n",
      "---  ------                                                                                               --------------  -----   \n",
      " 0   Id;ProductId;UserId;ProfileName;HelpfulnessNumerator;HelpfulnessDenominator;Score;Time;Summary;Text  5253 non-null   category\n",
      "dtypes: category(1)\n",
      "memory usage: 180.5 KB\n",
      "None\n"
     ]
    }
   ],
   "source": [
    "print(dados_Amazon.info())\n"
   ]
  },
  {
   "cell_type": "markdown",
   "id": "f3581a33-76cb-4b84-8f22-c015a6594294",
   "metadata": {},
   "source": [
    "# Resumo estatístico descritivo"
   ]
  },
  {
   "cell_type": "code",
   "execution_count": 10,
   "id": "e9546f73-0277-4ddb-8c45-3319b95712a8",
   "metadata": {},
   "outputs": [
    {
     "name": "stdout",
     "output_type": "stream",
     "text": [
      "       Id;ProductId;UserId;ProfileName;HelpfulnessNumerator;HelpfulnessDenominator;Score;Time;Summary;Text\n",
      "count                                                5253                                                 \n",
      "unique                                               5253                                                 \n",
      "top     1000;B006F2NYI2;A132DJVI37RB4X;Scottdrum;2;5;2...                                                 \n",
      "freq                                                    1                                                 \n"
     ]
    }
   ],
   "source": [
    "print(dados_Amazon.describe())"
   ]
  },
  {
   "cell_type": "markdown",
   "id": "2a1f7b8e-fdeb-43e5-8462-a81b11003d13",
   "metadata": {},
   "source": [
    "# Valores nulos em cada coluna "
   ]
  },
  {
   "cell_type": "code",
   "execution_count": 11,
   "id": "4ebf1911-652d-436a-97fc-ca3d51faaeb9",
   "metadata": {},
   "outputs": [
    {
     "name": "stdout",
     "output_type": "stream",
     "text": [
      "Id;ProductId;UserId;ProfileName;HelpfulnessNumerator;HelpfulnessDenominator;Score;Time;Summary;Text    0\n",
      "dtype: int64\n"
     ]
    }
   ],
   "source": [
    "print(dados_Amazon.isnull().sum())"
   ]
  },
  {
   "cell_type": "markdown",
   "id": "bb97ddfc-62c8-4c9c-a5af-d908a1e251a0",
   "metadata": {},
   "source": [
    "# Visualizações gráficas"
   ]
  },
  {
   "cell_type": "code",
   "execution_count": null,
   "id": "e2e73688-15c3-4eff-9d4b-994d2b203b2d",
   "metadata": {},
   "outputs": [],
   "source": []
  },
  {
   "cell_type": "code",
   "execution_count": null,
   "id": "1e0c3690-3623-49aa-9da3-02033861cd7f",
   "metadata": {},
   "outputs": [],
   "source": []
  },
  {
   "cell_type": "code",
   "execution_count": null,
   "id": "5c4ae3d8-a603-4ee8-9213-7b7080ee9325",
   "metadata": {},
   "outputs": [],
   "source": []
  }
 ],
 "metadata": {
  "kernelspec": {
   "display_name": "Python 3 (ipykernel)",
   "language": "python",
   "name": "python3"
  },
  "language_info": {
   "codemirror_mode": {
    "name": "ipython",
    "version": 3
   },
   "file_extension": ".py",
   "mimetype": "text/x-python",
   "name": "python",
   "nbconvert_exporter": "python",
   "pygments_lexer": "ipython3",
   "version": "3.12.7"
  }
 },
 "nbformat": 4,
 "nbformat_minor": 5
}
