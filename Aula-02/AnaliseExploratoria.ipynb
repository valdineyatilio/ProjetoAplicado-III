{
 "cells": [
  {
   "cell_type": "markdown",
   "id": "46bce1a3-5c62-4c08-ad0c-eb477aa033c1",
   "metadata": {},
   "source": [
    "# Bibliotecas python"
   ]
  },
  {
   "cell_type": "code",
   "execution_count": 1,
   "id": "455444fc-94be-43bd-9460-9685bae7455f",
   "metadata": {},
   "outputs": [],
   "source": [
    "import pandas as pd\n",
    "import matplotlib.pyplot as plt\n",
    "import seaborn as sns\n",
    "import numpy as np\n",
    "from scipy import stats"
   ]
  },
  {
   "cell_type": "markdown",
   "id": "89d03de0-3bd3-497f-b74b-bb79d9fcc8c1",
   "metadata": {},
   "source": [
    "# Carregar a base de dados do arquivo CSV"
   ]
  },
  {
   "cell_type": "code",
   "execution_count": 2,
   "id": "268b5b35-19a4-4a46-ba08-7a1c70a475b2",
   "metadata": {},
   "outputs": [],
   "source": [
    "url = \"https://github.com/valdineyatilio/ProjetoAplicado-III/raw/refs/heads/main/Aula-02/BaseDeDados-AmazonProductReviews.csv\""
   ]
  },
  {
   "cell_type": "code",
   "execution_count": 3,
   "id": "4a75228e-66c3-4ecc-bfa4-013dd6fd817d",
   "metadata": {},
   "outputs": [],
   "source": [
    "dados_Amazon = pd.read_csv(url, encoding='latin1')"
   ]
  },
  {
   "cell_type": "markdown",
   "id": "b11a0363-bb6e-4cc1-85cc-af93e8d8b23f",
   "metadata": {},
   "source": [
    "# Vizualição das primeiras linhas do data frame"
   ]
  },
  {
   "cell_type": "code",
   "execution_count": 5,
   "id": "0a715231-cc3a-49e3-b205-7a1a65b97e3d",
   "metadata": {},
   "outputs": [
    {
     "name": "stdout",
     "output_type": "stream",
     "text": [
      "  Id;ProductId;UserId;ProfileName;HelpfulnessNumerator;HelpfulnessDenominator;Score;Time;Summary;Text\n",
      "0  1;B001E4KFG0;A3SGXH7AUHU8GW;Delmartian;1;1;5;1...                                                 \n",
      "1  2;B00813GRG4;A1D87F6ZCVE5NK;Dll Pa;0;0;1;13469...                                                 \n",
      "2  3;B000LQOCH0;ABXLMWJIXXAIN;Natalia Corres Nata...                                                 \n",
      "3  4;B000UA0QIQ;A395BORC6FGVXV;Karl;3;3;2;1307923...                                                 \n",
      "4  5;B006K2ZZ7K;A1UQRSCLF8GW1T;Michael D. Bigham ...                                                 \n"
     ]
    }
   ],
   "source": [
    "print(dados_Amazon.head())"
   ]
  },
  {
   "cell_type": "markdown",
   "id": "61c2b0df-1dc0-4a82-a0e6-183013a587b9",
   "metadata": {},
   "source": [
    "# Verificar os nomes das colunas"
   ]
  },
  {
   "cell_type": "code",
   "execution_count": 6,
   "id": "307159c7-27d3-44ff-8462-c529ce618b10",
   "metadata": {},
   "outputs": [
    {
     "name": "stdout",
     "output_type": "stream",
     "text": [
      "Index(['Id;ProductId;UserId;ProfileName;HelpfulnessNumerator;HelpfulnessDenominator;Score;Time;Summary;Text'], dtype='object')\n"
     ]
    }
   ],
   "source": [
    "print(dados_Amazon.columns)"
   ]
  },
  {
   "cell_type": "markdown",
   "id": "96c0ee36-decd-478b-9dea-6b841e3a0207",
   "metadata": {},
   "source": [
    "# Verificação de Tipos de Dados"
   ]
  },
  {
   "cell_type": "code",
   "execution_count": 13,
   "id": "ba80889a-663f-4f4c-8bbe-8edb08f1d1d3",
   "metadata": {},
   "outputs": [],
   "source": [
    "for coluna in dados_Amazon.columns:\n",
    "    if dados_Amazon[coluna].dtype == 'object':\n",
    "        dados_Amazon[coluna] = dados_Amazon[coluna].astype('category')\n",
    "    elif dados_Amazon[coluna].dtype in ['int64', 'float64']:\n",
    "        dados_Amazon[coluna] = dados_Amazon[coluna].astype(float)"
   ]
  },
  {
   "cell_type": "markdown",
   "id": "70892f30-414f-4e92-a4d1-ce2ee92fc6d7",
   "metadata": {},
   "source": [
    "# Verificação das informações das colunas"
   ]
  },
  {
   "cell_type": "code",
   "execution_count": 14,
   "id": "59dea137-2f8b-422f-89d9-baa4e1969270",
   "metadata": {},
   "outputs": [
    {
     "name": "stdout",
     "output_type": "stream",
     "text": [
      "<class 'pandas.core.frame.DataFrame'>\n",
      "RangeIndex: 5253 entries, 0 to 5252\n",
      "Data columns (total 1 columns):\n",
      " #   Column                                                                                               Non-Null Count  Dtype   \n",
      "---  ------                                                                                               --------------  -----   \n",
      " 0   Id;ProductId;UserId;ProfileName;HelpfulnessNumerator;HelpfulnessDenominator;Score;Time;Summary;Text  5253 non-null   category\n",
      "dtypes: category(1)\n",
      "memory usage: 180.5 KB\n",
      "None\n"
     ]
    }
   ],
   "source": [
    "print(dados_Amazon.info())\n"
   ]
  },
  {
   "cell_type": "markdown",
   "id": "f3581a33-76cb-4b84-8f22-c015a6594294",
   "metadata": {},
   "source": [
    "# Resumo estatístico das variáveis numéricas"
   ]
  },
  {
   "cell_type": "code",
   "execution_count": 9,
   "id": "e9546f73-0277-4ddb-8c45-3319b95712a8",
   "metadata": {},
   "outputs": [
    {
     "name": "stdout",
     "output_type": "stream",
     "text": [
      "       Id;ProductId;UserId;ProfileName;HelpfulnessNumerator;HelpfulnessDenominator;Score;Time;Summary;Text\n",
      "count                                                5253                                                 \n",
      "unique                                               5253                                                 \n",
      "top     1000;B006F2NYI2;A132DJVI37RB4X;Scottdrum;2;5;2...                                                 \n",
      "freq                                                    1                                                 \n"
     ]
    }
   ],
   "source": [
    "print(dados_Amazon.describe())"
   ]
  },
  {
   "cell_type": "markdown",
   "id": "bb97ddfc-62c8-4c9c-a5af-d908a1e251a0",
   "metadata": {},
   "source": [
    "# Visualizações gráficas"
   ]
  },
  {
   "cell_type": "code",
   "execution_count": 17,
   "id": "e2e73688-15c3-4eff-9d4b-994d2b203b2d",
   "metadata": {},
   "outputs": [
    {
     "ename": "KeyError",
     "evalue": "'coluna'",
     "output_type": "error",
     "traceback": [
      "\u001b[1;31m---------------------------------------------------------------------------\u001b[0m",
      "\u001b[1;31mKeyError\u001b[0m                                  Traceback (most recent call last)",
      "File \u001b[1;32m~\\AppData\\Local\\anaconda3\\Lib\\site-packages\\pandas\\core\\indexes\\base.py:3805\u001b[0m, in \u001b[0;36mIndex.get_loc\u001b[1;34m(self, key)\u001b[0m\n\u001b[0;32m   3804\u001b[0m \u001b[38;5;28;01mtry\u001b[39;00m:\n\u001b[1;32m-> 3805\u001b[0m     \u001b[38;5;28;01mreturn\u001b[39;00m \u001b[38;5;28mself\u001b[39m\u001b[38;5;241m.\u001b[39m_engine\u001b[38;5;241m.\u001b[39mget_loc(casted_key)\n\u001b[0;32m   3806\u001b[0m \u001b[38;5;28;01mexcept\u001b[39;00m \u001b[38;5;167;01mKeyError\u001b[39;00m \u001b[38;5;28;01mas\u001b[39;00m err:\n",
      "File \u001b[1;32mindex.pyx:167\u001b[0m, in \u001b[0;36mpandas._libs.index.IndexEngine.get_loc\u001b[1;34m()\u001b[0m\n",
      "File \u001b[1;32mindex.pyx:196\u001b[0m, in \u001b[0;36mpandas._libs.index.IndexEngine.get_loc\u001b[1;34m()\u001b[0m\n",
      "File \u001b[1;32mpandas\\\\_libs\\\\hashtable_class_helper.pxi:7081\u001b[0m, in \u001b[0;36mpandas._libs.hashtable.PyObjectHashTable.get_item\u001b[1;34m()\u001b[0m\n",
      "File \u001b[1;32mpandas\\\\_libs\\\\hashtable_class_helper.pxi:7089\u001b[0m, in \u001b[0;36mpandas._libs.hashtable.PyObjectHashTable.get_item\u001b[1;34m()\u001b[0m\n",
      "\u001b[1;31mKeyError\u001b[0m: 'coluna'",
      "\nThe above exception was the direct cause of the following exception:\n",
      "\u001b[1;31mKeyError\u001b[0m                                  Traceback (most recent call last)",
      "Cell \u001b[1;32mIn[17], line 1\u001b[0m\n\u001b[1;32m----> 1\u001b[0m dados_Amazon[\u001b[38;5;124m'\u001b[39m\u001b[38;5;124mcoluna\u001b[39m\u001b[38;5;124m'\u001b[39m] \u001b[38;5;241m=\u001b[39m pd\u001b[38;5;241m.\u001b[39mto_numeric(dados_Amazon[\u001b[38;5;124m'\u001b[39m\u001b[38;5;124mcoluna\u001b[39m\u001b[38;5;124m'\u001b[39m], errors\u001b[38;5;241m=\u001b[39m\u001b[38;5;124m'\u001b[39m\u001b[38;5;124mcoerce\u001b[39m\u001b[38;5;124m'\u001b[39m)\n",
      "File \u001b[1;32m~\\AppData\\Local\\anaconda3\\Lib\\site-packages\\pandas\\core\\frame.py:4102\u001b[0m, in \u001b[0;36mDataFrame.__getitem__\u001b[1;34m(self, key)\u001b[0m\n\u001b[0;32m   4100\u001b[0m \u001b[38;5;28;01mif\u001b[39;00m \u001b[38;5;28mself\u001b[39m\u001b[38;5;241m.\u001b[39mcolumns\u001b[38;5;241m.\u001b[39mnlevels \u001b[38;5;241m>\u001b[39m \u001b[38;5;241m1\u001b[39m:\n\u001b[0;32m   4101\u001b[0m     \u001b[38;5;28;01mreturn\u001b[39;00m \u001b[38;5;28mself\u001b[39m\u001b[38;5;241m.\u001b[39m_getitem_multilevel(key)\n\u001b[1;32m-> 4102\u001b[0m indexer \u001b[38;5;241m=\u001b[39m \u001b[38;5;28mself\u001b[39m\u001b[38;5;241m.\u001b[39mcolumns\u001b[38;5;241m.\u001b[39mget_loc(key)\n\u001b[0;32m   4103\u001b[0m \u001b[38;5;28;01mif\u001b[39;00m is_integer(indexer):\n\u001b[0;32m   4104\u001b[0m     indexer \u001b[38;5;241m=\u001b[39m [indexer]\n",
      "File \u001b[1;32m~\\AppData\\Local\\anaconda3\\Lib\\site-packages\\pandas\\core\\indexes\\base.py:3812\u001b[0m, in \u001b[0;36mIndex.get_loc\u001b[1;34m(self, key)\u001b[0m\n\u001b[0;32m   3807\u001b[0m     \u001b[38;5;28;01mif\u001b[39;00m \u001b[38;5;28misinstance\u001b[39m(casted_key, \u001b[38;5;28mslice\u001b[39m) \u001b[38;5;129;01mor\u001b[39;00m (\n\u001b[0;32m   3808\u001b[0m         \u001b[38;5;28misinstance\u001b[39m(casted_key, abc\u001b[38;5;241m.\u001b[39mIterable)\n\u001b[0;32m   3809\u001b[0m         \u001b[38;5;129;01mand\u001b[39;00m \u001b[38;5;28many\u001b[39m(\u001b[38;5;28misinstance\u001b[39m(x, \u001b[38;5;28mslice\u001b[39m) \u001b[38;5;28;01mfor\u001b[39;00m x \u001b[38;5;129;01min\u001b[39;00m casted_key)\n\u001b[0;32m   3810\u001b[0m     ):\n\u001b[0;32m   3811\u001b[0m         \u001b[38;5;28;01mraise\u001b[39;00m InvalidIndexError(key)\n\u001b[1;32m-> 3812\u001b[0m     \u001b[38;5;28;01mraise\u001b[39;00m \u001b[38;5;167;01mKeyError\u001b[39;00m(key) \u001b[38;5;28;01mfrom\u001b[39;00m \u001b[38;5;21;01merr\u001b[39;00m\n\u001b[0;32m   3813\u001b[0m \u001b[38;5;28;01mexcept\u001b[39;00m \u001b[38;5;167;01mTypeError\u001b[39;00m:\n\u001b[0;32m   3814\u001b[0m     \u001b[38;5;66;03m# If we have a listlike key, _check_indexing_error will raise\u001b[39;00m\n\u001b[0;32m   3815\u001b[0m     \u001b[38;5;66;03m#  InvalidIndexError. Otherwise we fall through and re-raise\u001b[39;00m\n\u001b[0;32m   3816\u001b[0m     \u001b[38;5;66;03m#  the TypeError.\u001b[39;00m\n\u001b[0;32m   3817\u001b[0m     \u001b[38;5;28mself\u001b[39m\u001b[38;5;241m.\u001b[39m_check_indexing_error(key)\n",
      "\u001b[1;31mKeyError\u001b[0m: 'coluna'"
     ]
    }
   ],
   "source": [
    "dados_Amazon['coluna'] = pd.to_numeric(dados_Amazon['coluna'], errors='coerce')"
   ]
  },
  {
   "cell_type": "code",
   "execution_count": null,
   "id": "1e0c3690-3623-49aa-9da3-02033861cd7f",
   "metadata": {},
   "outputs": [],
   "source": [
    "dados_numericos = dados_Amazon.select_dtypes(include=['float64', 'int64'])\n",
    "dados_numericos.hist(bins=30, figsize=(20, 15))\n",
    "plt.suptitle('Histogramas das Variáveis Numéricas')\n",
    "plt.show()"
   ]
  },
  {
   "cell_type": "code",
   "execution_count": null,
   "id": "565e7184-c849-44a5-a299-6e83f8ecac0e",
   "metadata": {},
   "outputs": [],
   "source": []
  }
 ],
 "metadata": {
  "kernelspec": {
   "display_name": "Python 3 (ipykernel)",
   "language": "python",
   "name": "python3"
  },
  "language_info": {
   "codemirror_mode": {
    "name": "ipython",
    "version": 3
   },
   "file_extension": ".py",
   "mimetype": "text/x-python",
   "name": "python",
   "nbconvert_exporter": "python",
   "pygments_lexer": "ipython3",
   "version": "3.12.7"
  }
 },
 "nbformat": 4,
 "nbformat_minor": 5
}
