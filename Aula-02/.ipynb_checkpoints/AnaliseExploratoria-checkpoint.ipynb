{
 "cells": [
  {
   "cell_type": "markdown",
   "id": "46bce1a3-5c62-4c08-ad0c-eb477aa033c1",
   "metadata": {},
   "source": [
    "# Bibliotecas python"
   ]
  },
  {
   "cell_type": "code",
   "execution_count": 1,
   "id": "455444fc-94be-43bd-9460-9685bae7455f",
   "metadata": {},
   "outputs": [],
   "source": [
    "import pandas as pd\n",
    "import matplotlib.pyplot as plt\n",
    "import seaborn as sns\n",
    "import numpy as np\n",
    "from scipy import stats"
   ]
  },
  {
   "cell_type": "markdown",
   "id": "89d03de0-3bd3-497f-b74b-bb79d9fcc8c1",
   "metadata": {},
   "source": [
    "# Carregar a base de dados do arquivo CSV"
   ]
  },
  {
   "cell_type": "code",
   "execution_count": 2,
   "id": "268b5b35-19a4-4a46-ba08-7a1c70a475b2",
   "metadata": {},
   "outputs": [],
   "source": [
    "url = \"https://github.com/valdineyatilio/ProjetoAplicado-III/raw/refs/heads/main/Aula-02/BaseDeDados-AmazonProductReviews.csv\""
   ]
  },
  {
   "cell_type": "code",
   "execution_count": 3,
   "id": "4a75228e-66c3-4ecc-bfa4-013dd6fd817d",
   "metadata": {},
   "outputs": [],
   "source": [
    "dados_Amazon = pd.read_csv(url, encoding='latin1')"
   ]
  },
  {
   "cell_type": "markdown",
   "id": "b11a0363-bb6e-4cc1-85cc-af93e8d8b23f",
   "metadata": {},
   "source": [
    "# Vizualição das primeiras linhas do data frame"
   ]
  },
  {
   "cell_type": "code",
   "execution_count": 4,
   "id": "0a715231-cc3a-49e3-b205-7a1a65b97e3d",
   "metadata": {},
   "outputs": [
    {
     "name": "stdout",
     "output_type": "stream",
     "text": [
      "  Id;ProductId;UserId;ProfileName;HelpfulnessNumerator;HelpfulnessDenominator;Score;Time;Summary;Text\n",
      "0  1;B001E4KFG0;A3SGXH7AUHU8GW;Delmartian;1;1;5;1...                                                 \n",
      "1  2;B00813GRG4;A1D87F6ZCVE5NK;Dll Pa;0;0;1;13469...                                                 \n",
      "2  3;B000LQOCH0;ABXLMWJIXXAIN;Natalia Corres Nata...                                                 \n",
      "3  4;B000UA0QIQ;A395BORC6FGVXV;Karl;3;3;2;1307923...                                                 \n",
      "4  5;B006K2ZZ7K;A1UQRSCLF8GW1T;Michael D. Bigham ...                                                 \n"
     ]
    }
   ],
   "source": [
    "print(dados_Amazon.head())"
   ]
  },
  {
   "cell_type": "code",
   "execution_count": null,
   "id": "bcc60935-7a21-48b6-ade8-4cc9e6dd7167",
   "metadata": {},
   "outputs": [],
   "source": []
  }
 ],
 "metadata": {
  "kernelspec": {
   "display_name": "Python 3 (ipykernel)",
   "language": "python",
   "name": "python3"
  },
  "language_info": {
   "codemirror_mode": {
    "name": "ipython",
    "version": 3
   },
   "file_extension": ".py",
   "mimetype": "text/x-python",
   "name": "python",
   "nbconvert_exporter": "python",
   "pygments_lexer": "ipython3",
   "version": "3.12.7"
  }
 },
 "nbformat": 4,
 "nbformat_minor": 5
}
