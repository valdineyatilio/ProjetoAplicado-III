{
 "cells": [
  {
   "cell_type": "markdown",
   "id": "6195ebb0-fb4e-462e-b7cc-89c1a661b29f",
   "metadata": {},
   "source": [
    "# Bibliotecas "
   ]
  },
  {
   "cell_type": "code",
   "execution_count": 1,
   "id": "ab618e14-186a-4d3f-8a00-16ed6e785c8f",
   "metadata": {},
   "outputs": [],
   "source": [
    "import pandas as pd\n",
    "import numpy as np\n",
    "from sklearn.feature_extraction.text import TfidfVectorizer\n",
    "from sklearn.metrics.pairwise import cosine_similarity\n",
    "\n"
   ]
  },
  {
   "cell_type": "markdown",
   "id": "ef91a88b-1669-4982-9042-113a52922a2c",
   "metadata": {},
   "source": [
    "# Carregar a base de dados do arquivo CSV\n"
   ]
  },
  {
   "cell_type": "code",
   "execution_count": 2,
   "id": "321494e0-5bdd-423f-9687-44bf70867e55",
   "metadata": {},
   "outputs": [],
   "source": [
    "\n",
    "url = \"https://github.com/valdineyatilio/ProjetoAplicado-III/raw/refs/heads/main/Aula-02/BaseDeDados-AmazonProductReviews.csv\"\n",
    "dados_Amazon = pd.read_csv(url, encoding='latin1', sep=';')\n"
   ]
  },
  {
   "cell_type": "markdown",
   "id": "5e98cc10-dca5-48c3-bd0c-6f731c7f227e",
   "metadata": {},
   "source": [
    "# Preencher valores nulos na coluna 'Text' com strings vazias\n"
   ]
  },
  {
   "cell_type": "code",
   "execution_count": 4,
   "id": "b1cb1176-68a5-4667-9acc-5ccfd590eccd",
   "metadata": {},
   "outputs": [],
   "source": [
    "dados_Amazon['Text'] = dados_Amazon['Text'].fillna('')\n"
   ]
  },
  {
   "cell_type": "markdown",
   "id": "39de9f94-0930-4375-8471-190370f8ee00",
   "metadata": {},
   "source": [
    "# Aplicar TF-IDF para transformar os textos em vetores numéricos\n"
   ]
  },
  {
   "cell_type": "code",
   "execution_count": 5,
   "id": "be71c2f3-af5e-48fa-9425-259843a9c6ef",
   "metadata": {},
   "outputs": [],
   "source": [
    "tfidf = TfidfVectorizer(stop_words='english', max_df=0.9, min_df=2, ngram_range=(1,2))\n",
    "matriz_tfidf = tfidf.fit_transform(dados_Amazon['Text'])\n",
    "\n"
   ]
  },
  {
   "cell_type": "markdown",
   "id": "567bea21-4aaf-41be-9166-8303db84b7a9",
   "metadata": {},
   "source": [
    "# Calcular a similaridade entre os produtos\n"
   ]
  },
  {
   "cell_type": "code",
   "execution_count": 6,
   "id": "8de6c010-d03c-40df-912d-a480642ba6c4",
   "metadata": {},
   "outputs": [],
   "source": [
    "similaridade = cosine_similarity(matriz_tfidf)"
   ]
  },
  {
   "cell_type": "markdown",
   "id": "f3c29d7a-67b3-4d66-9936-88f0a65081e9",
   "metadata": {},
   "source": [
    "# Função para avaliar precisão da similaridade\n"
   ]
  },
  {
   "cell_type": "code",
   "execution_count": 7,
   "id": "72447790-7e0d-49e2-9820-873307dd3806",
   "metadata": {},
   "outputs": [],
   "source": [
    "def avaliar_precisao(n_amostras=10):\n",
    "    precisao_total = 0\n",
    "    for i in np.random.choice(len(dados_Amazon), n_amostras, replace=False):\n",
    "        similares = list(enumerate(similaridade[i]))\n",
    "        similares = sorted(similares, key=lambda x: x[1], reverse=True)\n",
    "        \n",
    "        score_medio = np.mean([score for _, score in similares[1:6]])  # Média dos top 5 similares\n",
    "        precisao_total += score_medio\n",
    "    \n",
    "    return precisao_total / n_amostras\n",
    "\n"
   ]
  },
  {
   "cell_type": "markdown",
   "id": "a302a14c-ae44-439a-910a-8caa3f2205da",
   "metadata": {},
   "source": [
    "# Função para medir cobertura dos produtos"
   ]
  },
  {
   "cell_type": "code",
   "execution_count": 8,
   "id": "431da69f-3c5c-4b1d-8be5-b710918f4b46",
   "metadata": {},
   "outputs": [],
   "source": [
    "def avaliar_cobertura():\n",
    "    produtos_recomendados = set()\n",
    "    for i in np.random.choice(len(dados_Amazon), 100, replace=False):\n",
    "        similares = list(enumerate(similaridade[i]))\n",
    "        similares = sorted(similares, key=lambda x: x[1], reverse=True)\n",
    "        produtos_recomendados.update([dados_Amazon.iloc[idx]['ProductId'] for idx, _ in similares[1:6]])\n",
    "    \n",
    "    return len(produtos_recomendados) / len(dados_Amazon['ProductId'].unique())\n",
    "\n"
   ]
  },
  {
   "cell_type": "markdown",
   "id": "56f3f8cd-2393-4e7a-92df-a5f9d36698d0",
   "metadata": {},
   "source": [
    "# Função para avaliar diversidade\n"
   ]
  },
  {
   "cell_type": "code",
   "execution_count": 10,
   "id": "5e5cae1d-51b8-4fdf-b8ca-8609114c9d32",
   "metadata": {},
   "outputs": [],
   "source": [
    "def avaliar_diversidade():\n",
    "    diversidade_total = 0\n",
    "    for i in np.random.choice(len(dados_Amazon), 10, replace=False):\n",
    "        similares = list(enumerate(similaridade[i]))\n",
    "        similares = sorted(similares, key=lambda x: x[1], reverse=True)\n",
    "        categorias = [dados_Amazon.iloc[idx]['Summary'] for idx, _ in similares[1:6]]\n",
    "        diversidade_total += len(set(categorias)) / len(categorias)\n",
    "    \n",
    "    return diversidade_total / 10\n"
   ]
  },
  {
   "cell_type": "markdown",
   "id": "99976c4b-4186-48e1-89c0-13de3d8703e9",
   "metadata": {},
   "source": [
    "# Teste das métricas\n"
   ]
  },
  {
   "cell_type": "code",
   "execution_count": 11,
   "id": "338bb584-76b8-43a8-9f67-18e34a9c21af",
   "metadata": {},
   "outputs": [
    {
     "name": "stdout",
     "output_type": "stream",
     "text": [
      "\n",
      "Precisão média da similaridade: 0.3511\n",
      "Cobertura dos produtos recomendados: 0.2903\n",
      "Diversidade das recomendações: 1.0000\n"
     ]
    }
   ],
   "source": [
    "print(f\"\\nPrecisão média da similaridade: {avaliar_precisao():.4f}\")\n",
    "print(f\"Cobertura dos produtos recomendados: {avaliar_cobertura():.4f}\")\n",
    "print(f\"Diversidade das recomendações: {avaliar_diversidade():.4f}\")\n"
   ]
  },
  {
   "cell_type": "code",
   "execution_count": null,
   "id": "cfeb0d28-71c7-4e77-9c26-5f9fb277af0d",
   "metadata": {},
   "outputs": [],
   "source": []
  }
 ],
 "metadata": {
  "kernelspec": {
   "display_name": "Python 3 (ipykernel)",
   "language": "python",
   "name": "python3"
  },
  "language_info": {
   "codemirror_mode": {
    "name": "ipython",
    "version": 3
   },
   "file_extension": ".py",
   "mimetype": "text/x-python",
   "name": "python",
   "nbconvert_exporter": "python",
   "pygments_lexer": "ipython3",
   "version": "3.12.7"
  }
 },
 "nbformat": 4,
 "nbformat_minor": 5
}
