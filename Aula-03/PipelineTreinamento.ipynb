{
 "cells": [
  {
   "cell_type": "code",
   "execution_count": 1,
   "id": "fafe78ce-6521-4722-88d8-314d5f76d03a",
   "metadata": {},
   "outputs": [
    {
     "name": "stderr",
     "output_type": "stream",
     "text": [
      "[nltk_data] Downloading package stopwords to C:\\Users\\valdiney.pedro.M\n",
      "[nltk_data]     ADIBA\\AppData\\Roaming\\nltk_data...\n",
      "[nltk_data]   Unzipping corpora\\stopwords.zip.\n"
     ]
    }
   ],
   "source": [
    "import pandas as pd\n",
    "import numpy as np\n",
    "from sklearn.preprocessing import MinMaxScaler, LabelEncoder\n",
    "from sklearn.feature_extraction.text import TfidfVectorizer\n",
    "from sklearn.metrics.pairwise import cosine_similarity\n",
    "from sklearn.model_selection import train_test_split\n",
    "import nltk\n",
    "from nltk.corpus import stopwords\n",
    "from nltk.stem import PorterStemmer\n",
    "\n",
    "# Baixar stopwords do NLTK\n",
    "nltk.download('stopwords')\n",
    "stop_words = set(stopwords.words('english'))\n",
    "stemmer = PorterStemmer()"
   ]
  },
  {
   "cell_type": "markdown",
   "id": "83b2da82-a8f7-4ae2-a54c-e5180595a1c0",
   "metadata": {},
   "source": [
    "# Carregar base de dados"
   ]
  },
  {
   "cell_type": "code",
   "execution_count": 2,
   "id": "ebdf82ab-168c-4714-9ec3-463f2136d2ab",
   "metadata": {},
   "outputs": [],
   "source": [
    "url = \"https://github.com/valdineyatilio/ProjetoAplicado-III/raw/refs/heads/main/Aula-02/BaseDeDados-AmazonProductReviews.csv\"\n",
    "dados_Amazon = pd.read_csv(url, encoding='latin1', sep=';')\n"
   ]
  },
  {
   "cell_type": "markdown",
   "id": "7740172d-467b-4721-bf46-5a5902162255",
   "metadata": {},
   "source": [
    "# Preencher valores nulos"
   ]
  },
  {
   "cell_type": "code",
   "execution_count": 3,
   "id": "fe5d4ec0-4f50-407e-84b5-3c0dfe198f5d",
   "metadata": {},
   "outputs": [],
   "source": [
    "dados_Amazon['Text'] = dados_Amazon['Text'].fillna('')\n",
    "dados_Amazon['HelpfulnessNumerator'] = dados_Amazon['HelpfulnessNumerator'].fillna(dados_Amazon['HelpfulnessNumerator'].median())\n",
    "dados_Amazon['HelpfulnessDenominator'] = dados_Amazon['HelpfulnessDenominator'].fillna(dados_Amazon['HelpfulnessDenominator'].median())\n"
   ]
  },
  {
   "cell_type": "markdown",
   "id": "37e4886b-2df1-4406-9e05-04265679f878",
   "metadata": {},
   "source": [
    "# Aplicar stemming e remoção de stopwords"
   ]
  },
  {
   "cell_type": "code",
   "execution_count": 4,
   "id": "2135df6a-4b03-4cd7-8934-02c5782a99ae",
   "metadata": {},
   "outputs": [],
   "source": [
    "def preprocess_text(text):\n",
    "    words = text.lower().split()\n",
    "    words = [stemmer.stem(word) for word in words if word not in stop_words]\n",
    "    return \" \".join(words)\n",
    "\n",
    "dados_Amazon['Text'] = dados_Amazon['Text'].apply(preprocess_text)\n"
   ]
  },
  {
   "cell_type": "markdown",
   "id": "e1296aff-1014-413f-bb5b-4e696995f836",
   "metadata": {},
   "source": [
    "# Remover colunas irrelevantes"
   ]
  },
  {
   "cell_type": "code",
   "execution_count": 5,
   "id": "4de523ec-5c1a-4838-aa32-cdcfc5d08702",
   "metadata": {},
   "outputs": [],
   "source": [
    "dados_Amazon = dados_Amazon.drop(columns=['UserId', 'ProfileName', 'Summary'])"
   ]
  },
  {
   "cell_type": "markdown",
   "id": "7d850021-ea26-4e94-8a64-b7d95ec0f5ed",
   "metadata": {},
   "source": [
    "# Codificar variáveis categóricas"
   ]
  },
  {
   "cell_type": "code",
   "execution_count": 6,
   "id": "42a2acd7-550b-4ed2-aaf0-9545c7b5f0ff",
   "metadata": {},
   "outputs": [],
   "source": [
    "dados_Amazon['ProductId'] = LabelEncoder().fit_transform(dados_Amazon['ProductId'])"
   ]
  },
  {
   "cell_type": "markdown",
   "id": "080dd70e-4aff-4522-820c-58dede622f77",
   "metadata": {},
   "source": [
    "# Normalizar variáveis numéricas"
   ]
  },
  {
   "cell_type": "code",
   "execution_count": 7,
   "id": "8ef59948-6611-453a-b353-771bea83333e",
   "metadata": {},
   "outputs": [],
   "source": [
    "scaler = MinMaxScaler()\n",
    "colunas_para_normalizar = ['HelpfulnessNumerator', 'HelpfulnessDenominator', 'Score']\n",
    "dados_Amazon[colunas_para_normalizar] = scaler.fit_transform(dados_Amazon[colunas_para_normalizar])\n"
   ]
  },
  {
   "cell_type": "markdown",
   "id": "0d666e94-8d67-4675-af7b-e7c220813c03",
   "metadata": {},
   "source": [
    "# Ajuste na Transformação de Texto"
   ]
  },
  {
   "cell_type": "code",
   "execution_count": 8,
   "id": "976257c1-d0e2-458c-ac3f-a2159f8ce5e4",
   "metadata": {},
   "outputs": [],
   "source": [
    "# Divisão treino/teste\n",
    "X_train, X_test = train_test_split(dados_Amazon, test_size=0.2, random_state=42)\n",
    "\n",
    "# Refinar o modelo TF-IDF\n",
    "tfidf = TfidfVectorizer(stop_words='english', max_df=0.85, min_df=3, ngram_range=(1,3))\n",
    "matriz_tfidf = tfidf.fit_transform(X_train['Text'])\n",
    "\n",
    "# Calcular similaridade\n",
    "similaridade = cosine_similarity(matriz_tfidf)"
   ]
  },
  {
   "cell_type": "markdown",
   "id": "a50ba2f3-4843-4ef9-9378-b20b777b0587",
   "metadata": {},
   "source": [
    "# Ajuste na Função de Recomendação"
   ]
  },
  {
   "cell_type": "code",
   "execution_count": 9,
   "id": "1e493607-31bb-4e30-8c3d-96792a3c7715",
   "metadata": {},
   "outputs": [
    {
     "name": "stdout",
     "output_type": "stream",
     "text": [
      "\n",
      "Produtos semelhantes ao ID 514:\n",
      "\n",
      "- Produto ID: 322, Similaridade: 0.5438\n",
      "- Produto ID: 112, Similaridade: 0.0000\n",
      "- Produto ID: 376, Similaridade: 0.0000\n"
     ]
    }
   ],
   "source": [
    "def recomendar_produto(product_index, top_n=5):\n",
    "    similares = list(enumerate(similaridade[product_index]))\n",
    "    similares = sorted(similares, key=lambda x: x[1], reverse=True)\n",
    "\n",
    "    print(f\"\\nProdutos semelhantes ao ID {X_train.iloc[product_index]['ProductId']}:\\n\")\n",
    "    produtos_recomendados = set()\n",
    "    \n",
    "    for i in range(1, top_n + 1):  # Ignorar o primeiro, que é ele mesmo\n",
    "        produto_id = X_train.iloc[similares[i][0]]['ProductId']\n",
    "        score = similares[i][1]\n",
    "\n",
    "        if produto_id not in produtos_recomendados:  # Evitar duplicações\n",
    "            produtos_recomendados.add(produto_id)\n",
    "            print(f\"- Produto ID: {produto_id}, Similaridade: {score:.4f}\")\n",
    "\n",
    "# Teste de recomendação\n",
    "produto_escolhido = np.random.randint(0, len(X_train))\n",
    "recomendar_produto(produto_escolhido)"
   ]
  },
  {
   "cell_type": "markdown",
   "id": "ffcfce34-f87c-44d0-b44b-1a9f7d660c47",
   "metadata": {},
   "source": [
    "# Avaliação Após os Ajustes"
   ]
  },
  {
   "cell_type": "code",
   "execution_count": 10,
   "id": "6368c6b3-c778-4aa0-b8b7-38c51a11e675",
   "metadata": {},
   "outputs": [
    {
     "name": "stdout",
     "output_type": "stream",
     "text": [
      "\n",
      "Precisão média das recomendações: 0.4024\n",
      "Cobertura dos produtos recomendados: 0.2721\n",
      "Diversidade das recomendações: 0.9600\n"
     ]
    }
   ],
   "source": [
    "def avaliar_precisao(n_amostras=10):\n",
    "    precisao_total = 0\n",
    "    for i in np.random.choice(len(X_train), n_amostras, replace=False):\n",
    "        similares = list(enumerate(similaridade[i]))\n",
    "        similares = sorted(similares, key=lambda x: x[1], reverse=True)\n",
    "        \n",
    "        score_medio = np.mean([score for _, score in similares[1:6]])  # Média dos top 5 similares\n",
    "        precisao_total += score_medio\n",
    "\n",
    "    return precisao_total / n_amostras\n",
    "\n",
    "def avaliar_cobertura():\n",
    "    produtos_recomendados = set()\n",
    "    for i in np.random.choice(len(X_train), 100, replace=False):\n",
    "        similares = list(enumerate(similaridade[i]))\n",
    "        similares = sorted(similares, key=lambda x: x[1], reverse=True)\n",
    "        produtos_recomendados.update([X_train.iloc[idx]['ProductId'] for idx, _ in similares[1:6]])\n",
    "\n",
    "    return len(produtos_recomendados) / len(X_train['ProductId'].unique())\n",
    "\n",
    "def avaliar_diversidade():\n",
    "    diversidade_total = 0\n",
    "    for i in np.random.choice(len(X_train), 10, replace=False):\n",
    "        similares = list(enumerate(similaridade[i]))\n",
    "        similares = sorted(similares, key=lambda x: x[1], reverse=True)\n",
    "        categorias = [X_train.iloc[idx]['Text'][:20] for idx, _ in similares[1:6]]  # Trecho do texto para diversidade\n",
    "        diversidade_total += len(set(categorias)) / len(categorias)\n",
    "\n",
    "    return diversidade_total / 10\n",
    "\n",
    "# Teste das métricas\n",
    "print(f\"\\nPrecisão média das recomendações: {avaliar_precisao():.4f}\")\n",
    "print(f\"Cobertura dos produtos recomendados: {avaliar_cobertura():.4f}\")\n",
    "print(f\"Diversidade das recomendações: {avaliar_diversidade():.4f}\")"
   ]
  },
  {
   "cell_type": "code",
   "execution_count": null,
   "id": "3874cb6d-0ba2-4521-bc51-0460e2461782",
   "metadata": {},
   "outputs": [],
   "source": []
  }
 ],
 "metadata": {
  "kernelspec": {
   "display_name": "Python 3 (ipykernel)",
   "language": "python",
   "name": "python3"
  },
  "language_info": {
   "codemirror_mode": {
    "name": "ipython",
    "version": 3
   },
   "file_extension": ".py",
   "mimetype": "text/x-python",
   "name": "python",
   "nbconvert_exporter": "python",
   "pygments_lexer": "ipython3",
   "version": "3.12.7"
  }
 },
 "nbformat": 4,
 "nbformat_minor": 5
}
